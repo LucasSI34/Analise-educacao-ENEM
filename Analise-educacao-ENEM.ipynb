{
 "cells": [
  {
   "cell_type": "markdown",
   "id": "6be7f04e",
   "metadata": {},
   "source": [
    "# IMERSÃO DADOS 2: EDUCAÇÃO NO BRASIL"
   ]
  },
  {
   "cell_type": "markdown",
   "id": "bd256455",
   "metadata": {},
   "source": [
    "## IMPORTAÇÃO DE BIBLIOTECAS"
   ]
  },
  {
   "cell_type": "code",
   "execution_count": 101,
   "id": "1dc9e318",
   "metadata": {},
   "outputs": [],
   "source": [
    "import pandas as pd\n",
    "import seaborn as sns\n",
    "import matplotlib.pyplot as plt"
   ]
  },
  {
   "cell_type": "markdown",
   "id": "cc534090",
   "metadata": {},
   "source": [
    "## IMPORTAÇÃO DO DATASET"
   ]
  },
  {
   "cell_type": "code",
   "execution_count": 102,
   "id": "fa345f3a",
   "metadata": {},
   "outputs": [
    {
     "data": {
      "text/html": [
       "<div>\n",
       "<style scoped>\n",
       "    .dataframe tbody tr th:only-of-type {\n",
       "        vertical-align: middle;\n",
       "    }\n",
       "\n",
       "    .dataframe tbody tr th {\n",
       "        vertical-align: top;\n",
       "    }\n",
       "\n",
       "    .dataframe thead th {\n",
       "        text-align: right;\n",
       "    }\n",
       "</style>\n",
       "<table border=\"1\" class=\"dataframe\">\n",
       "  <thead>\n",
       "    <tr style=\"text-align: right;\">\n",
       "      <th></th>\n",
       "      <th>NU_INSCRICAO</th>\n",
       "      <th>NU_ANO</th>\n",
       "      <th>CO_MUNICIPIO_RESIDENCIA</th>\n",
       "      <th>NO_MUNICIPIO_RESIDENCIA</th>\n",
       "      <th>CO_UF_RESIDENCIA</th>\n",
       "      <th>SG_UF_RESIDENCIA</th>\n",
       "      <th>NU_IDADE</th>\n",
       "      <th>TP_SEXO</th>\n",
       "      <th>TP_ESTADO_CIVIL</th>\n",
       "      <th>TP_COR_RACA</th>\n",
       "      <th>...</th>\n",
       "      <th>Q016</th>\n",
       "      <th>Q017</th>\n",
       "      <th>Q018</th>\n",
       "      <th>Q019</th>\n",
       "      <th>Q020</th>\n",
       "      <th>Q021</th>\n",
       "      <th>Q022</th>\n",
       "      <th>Q023</th>\n",
       "      <th>Q024</th>\n",
       "      <th>Q025</th>\n",
       "    </tr>\n",
       "  </thead>\n",
       "  <tbody>\n",
       "    <tr>\n",
       "      <th>0</th>\n",
       "      <td>190001004661</td>\n",
       "      <td>2019</td>\n",
       "      <td>1506138</td>\n",
       "      <td>Redenção</td>\n",
       "      <td>15</td>\n",
       "      <td>PA</td>\n",
       "      <td>17</td>\n",
       "      <td>M</td>\n",
       "      <td>1</td>\n",
       "      <td>3</td>\n",
       "      <td>...</td>\n",
       "      <td>A</td>\n",
       "      <td>A</td>\n",
       "      <td>A</td>\n",
       "      <td>A</td>\n",
       "      <td>B</td>\n",
       "      <td>A</td>\n",
       "      <td>C</td>\n",
       "      <td>A</td>\n",
       "      <td>B</td>\n",
       "      <td>B</td>\n",
       "    </tr>\n",
       "    <tr>\n",
       "      <th>1</th>\n",
       "      <td>190001004674</td>\n",
       "      <td>2019</td>\n",
       "      <td>1504208</td>\n",
       "      <td>Marabá</td>\n",
       "      <td>15</td>\n",
       "      <td>PA</td>\n",
       "      <td>23</td>\n",
       "      <td>M</td>\n",
       "      <td>1</td>\n",
       "      <td>3</td>\n",
       "      <td>...</td>\n",
       "      <td>A</td>\n",
       "      <td>A</td>\n",
       "      <td>A</td>\n",
       "      <td>B</td>\n",
       "      <td>A</td>\n",
       "      <td>A</td>\n",
       "      <td>B</td>\n",
       "      <td>A</td>\n",
       "      <td>A</td>\n",
       "      <td>B</td>\n",
       "    </tr>\n",
       "    <tr>\n",
       "      <th>2</th>\n",
       "      <td>190001004722</td>\n",
       "      <td>2019</td>\n",
       "      <td>1501402</td>\n",
       "      <td>Belém</td>\n",
       "      <td>15</td>\n",
       "      <td>PA</td>\n",
       "      <td>35</td>\n",
       "      <td>F</td>\n",
       "      <td>2</td>\n",
       "      <td>1</td>\n",
       "      <td>...</td>\n",
       "      <td>A</td>\n",
       "      <td>A</td>\n",
       "      <td>A</td>\n",
       "      <td>B</td>\n",
       "      <td>A</td>\n",
       "      <td>B</td>\n",
       "      <td>B</td>\n",
       "      <td>A</td>\n",
       "      <td>A</td>\n",
       "      <td>B</td>\n",
       "    </tr>\n",
       "    <tr>\n",
       "      <th>3</th>\n",
       "      <td>190001004735</td>\n",
       "      <td>2019</td>\n",
       "      <td>1507300</td>\n",
       "      <td>São Félix do Xingu</td>\n",
       "      <td>15</td>\n",
       "      <td>PA</td>\n",
       "      <td>23</td>\n",
       "      <td>F</td>\n",
       "      <td>1</td>\n",
       "      <td>3</td>\n",
       "      <td>...</td>\n",
       "      <td>A</td>\n",
       "      <td>A</td>\n",
       "      <td>A</td>\n",
       "      <td>B</td>\n",
       "      <td>A</td>\n",
       "      <td>A</td>\n",
       "      <td>B</td>\n",
       "      <td>A</td>\n",
       "      <td>A</td>\n",
       "      <td>B</td>\n",
       "    </tr>\n",
       "    <tr>\n",
       "      <th>4</th>\n",
       "      <td>190001004776</td>\n",
       "      <td>2019</td>\n",
       "      <td>1500800</td>\n",
       "      <td>Ananindeua</td>\n",
       "      <td>15</td>\n",
       "      <td>PA</td>\n",
       "      <td>16</td>\n",
       "      <td>F</td>\n",
       "      <td>1</td>\n",
       "      <td>3</td>\n",
       "      <td>...</td>\n",
       "      <td>A</td>\n",
       "      <td>A</td>\n",
       "      <td>A</td>\n",
       "      <td>B</td>\n",
       "      <td>A</td>\n",
       "      <td>A</td>\n",
       "      <td>D</td>\n",
       "      <td>A</td>\n",
       "      <td>A</td>\n",
       "      <td>B</td>\n",
       "    </tr>\n",
       "  </tbody>\n",
       "</table>\n",
       "<p>5 rows × 136 columns</p>\n",
       "</div>"
      ],
      "text/plain": [
       "   NU_INSCRICAO  NU_ANO  CO_MUNICIPIO_RESIDENCIA NO_MUNICIPIO_RESIDENCIA  \\\n",
       "0  190001004661    2019                  1506138                Redenção   \n",
       "1  190001004674    2019                  1504208                  Marabá   \n",
       "2  190001004722    2019                  1501402                   Belém   \n",
       "3  190001004735    2019                  1507300      São Félix do Xingu   \n",
       "4  190001004776    2019                  1500800              Ananindeua   \n",
       "\n",
       "   CO_UF_RESIDENCIA SG_UF_RESIDENCIA  NU_IDADE TP_SEXO  TP_ESTADO_CIVIL  \\\n",
       "0                15               PA        17       M                1   \n",
       "1                15               PA        23       M                1   \n",
       "2                15               PA        35       F                2   \n",
       "3                15               PA        23       F                1   \n",
       "4                15               PA        16       F                1   \n",
       "\n",
       "   TP_COR_RACA  ...  Q016  Q017 Q018  Q019 Q020  Q021  Q022  Q023  Q024  Q025  \n",
       "0            3  ...     A     A    A     A    B     A     C     A     B     B  \n",
       "1            3  ...     A     A    A     B    A     A     B     A     A     B  \n",
       "2            1  ...     A     A    A     B    A     B     B     A     A     B  \n",
       "3            3  ...     A     A    A     B    A     A     B     A     A     B  \n",
       "4            3  ...     A     A    A     B    A     A     D     A     A     B  \n",
       "\n",
       "[5 rows x 136 columns]"
      ]
     },
     "execution_count": 102,
     "metadata": {},
     "output_type": "execute_result"
    }
   ],
   "source": [
    "fonte = \"https://github.com/alura-cursos/imersao-dados-2-2020/blob/master/MICRODADOS_ENEM_2019_SAMPLE_43278.csv?raw=true\"\n",
    "dados = pd.read_csv(fonte)\n",
    "dados.head()"
   ]
  },
  {
   "cell_type": "code",
   "execution_count": 103,
   "id": "eb27cd76",
   "metadata": {},
   "outputs": [
    {
     "name": "stdout",
     "output_type": "stream",
     "text": [
      "O dataset possui 127380 linhas e 136 colunas\n"
     ]
    }
   ],
   "source": [
    "#Visualizar o tamanho do dataset\n",
    "print(f'O dataset possui {dados.shape[0]} linhas e {dados.shape[1]} colunas')"
   ]
  },
  {
   "cell_type": "code",
   "execution_count": 104,
   "id": "6698dc36",
   "metadata": {},
   "outputs": [
    {
     "data": {
      "text/plain": [
       "array(['NU_INSCRICAO', 'NU_ANO', 'CO_MUNICIPIO_RESIDENCIA',\n",
       "       'NO_MUNICIPIO_RESIDENCIA', 'CO_UF_RESIDENCIA', 'SG_UF_RESIDENCIA',\n",
       "       'NU_IDADE', 'TP_SEXO', 'TP_ESTADO_CIVIL', 'TP_COR_RACA',\n",
       "       'TP_NACIONALIDADE', 'CO_MUNICIPIO_NASCIMENTO',\n",
       "       'NO_MUNICIPIO_NASCIMENTO', 'CO_UF_NASCIMENTO', 'SG_UF_NASCIMENTO',\n",
       "       'TP_ST_CONCLUSAO', 'TP_ANO_CONCLUIU', 'TP_ESCOLA', 'TP_ENSINO',\n",
       "       'IN_TREINEIRO', 'CO_ESCOLA', 'CO_MUNICIPIO_ESC',\n",
       "       'NO_MUNICIPIO_ESC', 'CO_UF_ESC', 'SG_UF_ESC',\n",
       "       'TP_DEPENDENCIA_ADM_ESC', 'TP_LOCALIZACAO_ESC', 'TP_SIT_FUNC_ESC',\n",
       "       'IN_BAIXA_VISAO', 'IN_CEGUEIRA', 'IN_SURDEZ',\n",
       "       'IN_DEFICIENCIA_AUDITIVA', 'IN_SURDO_CEGUEIRA',\n",
       "       'IN_DEFICIENCIA_FISICA', 'IN_DEFICIENCIA_MENTAL',\n",
       "       'IN_DEFICIT_ATENCAO', 'IN_DISLEXIA', 'IN_DISCALCULIA',\n",
       "       'IN_AUTISMO', 'IN_VISAO_MONOCULAR', 'IN_OUTRA_DEF', 'IN_GESTANTE',\n",
       "       'IN_LACTANTE', 'IN_IDOSO', 'IN_ESTUDA_CLASSE_HOSPITALAR',\n",
       "       'IN_SEM_RECURSO', 'IN_BRAILLE', 'IN_AMPLIADA_24', 'IN_AMPLIADA_18',\n",
       "       'IN_LEDOR', 'IN_ACESSO', 'IN_TRANSCRICAO', 'IN_LIBRAS',\n",
       "       'IN_TEMPO_ADICIONAL', 'IN_LEITURA_LABIAL', 'IN_MESA_CADEIRA_RODAS',\n",
       "       'IN_MESA_CADEIRA_SEPARADA', 'IN_APOIO_PERNA', 'IN_GUIA_INTERPRETE',\n",
       "       'IN_COMPUTADOR', 'IN_CADEIRA_ESPECIAL', 'IN_CADEIRA_CANHOTO',\n",
       "       'IN_CADEIRA_ACOLCHOADA', 'IN_PROVA_DEITADO', 'IN_MOBILIARIO_OBESO',\n",
       "       'IN_LAMINA_OVERLAY', 'IN_PROTETOR_AURICULAR', 'IN_MEDIDOR_GLICOSE',\n",
       "       'IN_MAQUINA_BRAILE', 'IN_SOROBAN', 'IN_MARCA_PASSO', 'IN_SONDA',\n",
       "       'IN_MEDICAMENTOS', 'IN_SALA_INDIVIDUAL', 'IN_SALA_ESPECIAL',\n",
       "       'IN_SALA_ACOMPANHANTE', 'IN_MOBILIARIO_ESPECIFICO',\n",
       "       'IN_MATERIAL_ESPECIFICO', 'IN_NOME_SOCIAL', 'CO_MUNICIPIO_PROVA',\n",
       "       'NO_MUNICIPIO_PROVA', 'CO_UF_PROVA', 'SG_UF_PROVA',\n",
       "       'TP_PRESENCA_CN', 'TP_PRESENCA_CH', 'TP_PRESENCA_LC',\n",
       "       'TP_PRESENCA_MT', 'CO_PROVA_CN', 'CO_PROVA_CH', 'CO_PROVA_LC',\n",
       "       'CO_PROVA_MT', 'NU_NOTA_CN', 'NU_NOTA_CH', 'NU_NOTA_LC',\n",
       "       'NU_NOTA_MT', 'TX_RESPOSTAS_CN', 'TX_RESPOSTAS_CH',\n",
       "       'TX_RESPOSTAS_LC', 'TX_RESPOSTAS_MT', 'TP_LINGUA',\n",
       "       'TX_GABARITO_CN', 'TX_GABARITO_CH', 'TX_GABARITO_LC',\n",
       "       'TX_GABARITO_MT', 'TP_STATUS_REDACAO', 'NU_NOTA_COMP1',\n",
       "       'NU_NOTA_COMP2', 'NU_NOTA_COMP3', 'NU_NOTA_COMP4', 'NU_NOTA_COMP5',\n",
       "       'NU_NOTA_REDACAO', 'Q001', 'Q002', 'Q003', 'Q004', 'Q005', 'Q006',\n",
       "       'Q007', 'Q008', 'Q009', 'Q010', 'Q011', 'Q012', 'Q013', 'Q014',\n",
       "       'Q015', 'Q016', 'Q017', 'Q018', 'Q019', 'Q020', 'Q021', 'Q022',\n",
       "       'Q023', 'Q024', 'Q025'], dtype=object)"
      ]
     },
     "execution_count": 104,
     "metadata": {},
     "output_type": "execute_result"
    }
   ],
   "source": [
    "#colunas do dataset\n",
    "dados.columns.values"
   ]
  },
  {
   "cell_type": "code",
   "execution_count": 105,
   "id": "5c61e694",
   "metadata": {},
   "outputs": [
    {
     "data": {
      "text/plain": [
       "array(['PA', 'RO', 'MT', 'AC', 'AM', 'RR', 'MA', 'PR', 'BA', 'PI', 'CE',\n",
       "       'PE', 'AP', 'TO', 'SC', 'GO', 'MG', 'SP', 'SE', 'RJ', 'PB', 'AL',\n",
       "       'RN', 'ES', 'DF', 'RS', 'MS'], dtype=object)"
      ]
     },
     "execution_count": 105,
     "metadata": {},
     "output_type": "execute_result"
    }
   ],
   "source": [
    "#Visualizando os estados\n",
    "dados['SG_UF_RESIDENCIA'].unique()"
   ]
  },
  {
   "cell_type": "code",
   "execution_count": 106,
   "id": "9224d295",
   "metadata": {},
   "outputs": [
    {
     "data": {
      "text/plain": [
       "NU_INSCRICAO               0\n",
       "NU_ANO                     0\n",
       "CO_MUNICIPIO_RESIDENCIA    0\n",
       "NO_MUNICIPIO_RESIDENCIA    0\n",
       "CO_UF_RESIDENCIA           0\n",
       "                          ..\n",
       "Q021                       0\n",
       "Q022                       0\n",
       "Q023                       0\n",
       "Q024                       0\n",
       "Q025                       0\n",
       "Length: 136, dtype: int64"
      ]
     },
     "execution_count": 106,
     "metadata": {},
     "output_type": "execute_result"
    }
   ],
   "source": [
    "#Verificando valores nulos\n",
    "dados.isnull().sum()"
   ]
  },
  {
   "cell_type": "code",
   "execution_count": 107,
   "id": "b53f7e8d",
   "metadata": {},
   "outputs": [
    {
     "data": {
      "text/plain": [
       "27"
      ]
     },
     "execution_count": 107,
     "metadata": {},
     "output_type": "execute_result"
    }
   ],
   "source": [
    "#Quantidade de estados\n",
    "len(dados['SG_UF_RESIDENCIA'].unique())"
   ]
  },
  {
   "cell_type": "code",
   "execution_count": 108,
   "id": "5b38f148",
   "metadata": {},
   "outputs": [
    {
     "data": {
      "text/plain": [
       "SP    20264\n",
       "MG    13547\n",
       "BA    10040\n",
       "RJ     8467\n",
       "CE     7381\n",
       "PA     7170\n",
       "PE     6941\n",
       "MA     5543\n",
       "RS     5466\n",
       "PR     5259\n",
       "GO     4268\n",
       "PB     3690\n",
       "PI     3034\n",
       "RN     2959\n",
       "AM     2820\n",
       "SC     2673\n",
       "ES     2550\n",
       "DF     2408\n",
       "AL     2263\n",
       "MT     2230\n",
       "SE     1815\n",
       "MS     1655\n",
       "RO     1400\n",
       "TO     1178\n",
       "AP     1047\n",
       "AC      946\n",
       "RR      366\n",
       "Name: SG_UF_RESIDENCIA, dtype: int64"
      ]
     },
     "execution_count": 108,
     "metadata": {},
     "output_type": "execute_result"
    }
   ],
   "source": [
    "#Quantidade de vezes que cada estado apareceu\n",
    "dados['SG_UF_RESIDENCIA'].value_counts()"
   ]
  },
  {
   "cell_type": "code",
   "execution_count": 109,
   "id": "06cfc8bd",
   "metadata": {},
   "outputs": [
    {
     "data": {
      "text/plain": [
       "NU_INSCRICAO                int64\n",
       "NU_ANO                      int64\n",
       "CO_MUNICIPIO_RESIDENCIA     int64\n",
       "NO_MUNICIPIO_RESIDENCIA    object\n",
       "CO_UF_RESIDENCIA            int64\n",
       "                            ...  \n",
       "Q021                       object\n",
       "Q022                       object\n",
       "Q023                       object\n",
       "Q024                       object\n",
       "Q025                       object\n",
       "Length: 136, dtype: object"
      ]
     },
     "execution_count": 109,
     "metadata": {},
     "output_type": "execute_result"
    }
   ],
   "source": [
    "#Tipos dos dados\n",
    "dados.dtypes"
   ]
  },
  {
   "cell_type": "markdown",
   "id": "513b50f9",
   "metadata": {},
   "source": [
    "## EXPLORANDO O DATASET"
   ]
  },
  {
   "cell_type": "markdown",
   "id": "2d4ffd60",
   "metadata": {},
   "source": [
    "#### IDADES"
   ]
  },
  {
   "cell_type": "code",
   "execution_count": 110,
   "id": "5cc39845",
   "metadata": {},
   "outputs": [
    {
     "data": {
      "text/plain": [
       "18    21452\n",
       "17    21256\n",
       "19    14418\n",
       "20    10413\n",
       "16     7830\n",
       "      ...  \n",
       "75        2\n",
       "73        2\n",
       "82        1\n",
       "77        1\n",
       "76        1\n",
       "Name: NU_IDADE, Length: 65, dtype: int64"
      ]
     },
     "execution_count": 110,
     "metadata": {},
     "output_type": "execute_result"
    }
   ],
   "source": [
    "# Visualizando a contagem dos alunos por idade\n",
    "dados['NU_IDADE'].value_counts()"
   ]
  },
  {
   "cell_type": "code",
   "execution_count": 111,
   "id": "62598775",
   "metadata": {},
   "outputs": [
    {
     "name": "stdout",
     "output_type": "stream",
     "text": [
      "O aluno mais novo tem 13 anos e o mais velho 82 anos\n"
     ]
    }
   ],
   "source": [
    "#Analisando o aluno mais novo e o mais velho\n",
    "minimo = dados['NU_IDADE'].min()\n",
    "maximo = dados['NU_IDADE'].max()\n",
    "print(f'O aluno mais novo tem {minimo} anos e o mais velho {maximo} anos')"
   ]
  },
  {
   "cell_type": "code",
   "execution_count": 112,
   "id": "3214a077",
   "metadata": {},
   "outputs": [
    {
     "data": {
      "text/plain": [
       "14      64\n",
       "15    1927\n",
       "16    7142\n",
       "17    4901\n",
       "18     858\n",
       "19     228\n",
       "20      83\n",
       "21      44\n",
       "22      30\n",
       "23      21\n",
       "24      13\n",
       "25       8\n",
       "26      13\n",
       "27       9\n",
       "28       6\n",
       "29      10\n",
       "30       4\n",
       "31       4\n",
       "32       2\n",
       "33       1\n",
       "34       3\n",
       "35       2\n",
       "36       2\n",
       "37       1\n",
       "38       4\n",
       "39       2\n",
       "40       4\n",
       "41       1\n",
       "42       4\n",
       "44       2\n",
       "45       1\n",
       "46       2\n",
       "47       1\n",
       "48       1\n",
       "51       1\n",
       "55       1\n",
       "62       1\n",
       "Name: NU_IDADE, dtype: int64"
      ]
     },
     "execution_count": 112,
     "metadata": {},
     "output_type": "execute_result"
    }
   ],
   "source": [
    "#Idades dos alunos treneiros\n",
    "dados.query(\"IN_TREINEIRO == 1\")['NU_IDADE'].value_counts().sort_index()"
   ]
  },
  {
   "cell_type": "markdown",
   "id": "b691922e",
   "metadata": {},
   "source": [
    "#### SEXO"
   ]
  },
  {
   "cell_type": "code",
   "execution_count": 113,
   "id": "97fdd647",
   "metadata": {},
   "outputs": [
    {
     "data": {
      "text/plain": [
       "Text(0, 0.5, 'QUANTIDADE')"
      ]
     },
     "execution_count": 113,
     "metadata": {},
     "output_type": "execute_result"
    },
    {
     "data": {
      "image/png": "[encoded data removed]",
      "text/plain": [
       "<Figure size 576x432 with 1 Axes>"
      ]
     },
     "metadata": {
      "needs_background": "light"
     },
     "output_type": "display_data"
    }
   ],
   "source": [
    "plt.figure(figsize=(8,6))\n",
    "sns.countplot(x='TP_SEXO', data=dados, palette='crest')\n",
    "plt.title('QNTD. DE PESSOAS PRESENTE NA PROVA')\n",
    "plt.xlabel('SEXO')\n",
    "plt.ylabel('QUANTIDADE')"
   ]
  },
  {
   "cell_type": "markdown",
   "id": "c47923c9",
   "metadata": {},
   "source": [
    "        Conclusões\n",
    "        Há maior quantidade de mulheres realizando as provas"
   ]
  },
  {
   "cell_type": "markdown",
   "id": "584fe1b6",
   "metadata": {},
   "source": [
    "#### RAÇA"
   ]
  },
  {
   "cell_type": "code",
   "execution_count": 114,
   "id": "90bf0080",
   "metadata": {},
   "outputs": [
    {
     "data": {
      "text/plain": [
       "<matplotlib.legend.Legend at 0x26880026700>"
      ]
     },
     "execution_count": 114,
     "metadata": {},
     "output_type": "execute_result"
    },
    {
     "data": {
      "image/png": "[encoded data removed]",
      "text/plain": [
       "<Figure size 576x432 with 1 Axes>"
      ]
     },
     "metadata": {
      "needs_background": "light"
     },
     "output_type": "display_data"
    }
   ],
   "source": [
    "plt.figure(figsize=(8,6))\n",
    "sns.countplot(x='TP_COR_RACA', data=dados, palette='mako', hue='TP_COR_RACA', dodge=False)\n",
    "plt.title('QNTD. DE PESSOAS PRESENTE NA PROVA')\n",
    "plt.xlabel('RAÇA')\n",
    "plt.ylabel('QUANTIDADE')\n",
    "plt.legend(labels=['Nao Declarado', 'Branca', 'Preta', 'Parda', 'Amarela', 'Indígena'])"
   ]
  },
  {
   "cell_type": "markdown",
   "id": "d2de105b",
   "metadata": {},
   "source": [
    "        Conclusões\n",
    "        Há maior quantidade de pardos realizando as provas"
   ]
  },
  {
   "cell_type": "markdown",
   "id": "eca46428",
   "metadata": {},
   "source": [
    "#### NOTAS"
   ]
  },
  {
   "cell_type": "code",
   "execution_count": 115,
   "id": "b221557a",
   "metadata": {},
   "outputs": [],
   "source": [
    "#lista com as notas que serão analisadas\n",
    "provas = ['NU_NOTA_LC', 'NU_NOTA_REDACAO','NU_NOTA_CN','NU_NOTA_CH', 'NU_NOTA_MT']"
   ]
  },
  {
   "cell_type": "code",
   "execution_count": 116,
   "id": "69f8c29b",
   "metadata": {},
   "outputs": [
    {
     "data": {
      "text/html": [
       "<div>\n",
       "<style scoped>\n",
       "    .dataframe tbody tr th:only-of-type {\n",
       "        vertical-align: middle;\n",
       "    }\n",
       "\n",
       "    .dataframe tbody tr th {\n",
       "        vertical-align: top;\n",
       "    }\n",
       "\n",
       "    .dataframe thead th {\n",
       "        text-align: right;\n",
       "    }\n",
       "</style>\n",
       "<table border=\"1\" class=\"dataframe\">\n",
       "  <thead>\n",
       "    <tr style=\"text-align: right;\">\n",
       "      <th></th>\n",
       "      <th>NU_NOTA_LC</th>\n",
       "      <th>NU_NOTA_REDACAO</th>\n",
       "      <th>NU_NOTA_CN</th>\n",
       "      <th>NU_NOTA_CH</th>\n",
       "      <th>NU_NOTA_MT</th>\n",
       "    </tr>\n",
       "  </thead>\n",
       "  <tbody>\n",
       "    <tr>\n",
       "      <th>count</th>\n",
       "      <td>98043.000000</td>\n",
       "      <td>98043.000000</td>\n",
       "      <td>92758.000000</td>\n",
       "      <td>98043.000000</td>\n",
       "      <td>92758.000000</td>\n",
       "    </tr>\n",
       "    <tr>\n",
       "      <th>mean</th>\n",
       "      <td>520.463928</td>\n",
       "      <td>571.570025</td>\n",
       "      <td>477.964015</td>\n",
       "      <td>507.365912</td>\n",
       "      <td>523.555206</td>\n",
       "    </tr>\n",
       "    <tr>\n",
       "      <th>std</th>\n",
       "      <td>64.556578</td>\n",
       "      <td>188.076455</td>\n",
       "      <td>76.296099</td>\n",
       "      <td>82.972839</td>\n",
       "      <td>109.416939</td>\n",
       "    </tr>\n",
       "    <tr>\n",
       "      <th>min</th>\n",
       "      <td>0.000000</td>\n",
       "      <td>0.000000</td>\n",
       "      <td>0.000000</td>\n",
       "      <td>0.000000</td>\n",
       "      <td>0.000000</td>\n",
       "    </tr>\n",
       "    <tr>\n",
       "      <th>25%</th>\n",
       "      <td>483.700000</td>\n",
       "      <td>480.000000</td>\n",
       "      <td>418.000000</td>\n",
       "      <td>447.900000</td>\n",
       "      <td>435.300000</td>\n",
       "    </tr>\n",
       "    <tr>\n",
       "      <th>50%</th>\n",
       "      <td>526.100000</td>\n",
       "      <td>580.000000</td>\n",
       "      <td>470.200000</td>\n",
       "      <td>510.900000</td>\n",
       "      <td>501.600000</td>\n",
       "    </tr>\n",
       "    <tr>\n",
       "      <th>75%</th>\n",
       "      <td>565.100000</td>\n",
       "      <td>680.000000</td>\n",
       "      <td>533.300000</td>\n",
       "      <td>567.100000</td>\n",
       "      <td>598.200000</td>\n",
       "    </tr>\n",
       "    <tr>\n",
       "      <th>max</th>\n",
       "      <td>801.700000</td>\n",
       "      <td>1000.000000</td>\n",
       "      <td>797.300000</td>\n",
       "      <td>809.400000</td>\n",
       "      <td>985.000000</td>\n",
       "    </tr>\n",
       "  </tbody>\n",
       "</table>\n",
       "</div>"
      ],
      "text/plain": [
       "         NU_NOTA_LC  NU_NOTA_REDACAO    NU_NOTA_CN    NU_NOTA_CH    NU_NOTA_MT\n",
       "count  98043.000000     98043.000000  92758.000000  98043.000000  92758.000000\n",
       "mean     520.463928       571.570025    477.964015    507.365912    523.555206\n",
       "std       64.556578       188.076455     76.296099     82.972839    109.416939\n",
       "min        0.000000         0.000000      0.000000      0.000000      0.000000\n",
       "25%      483.700000       480.000000    418.000000    447.900000    435.300000\n",
       "50%      526.100000       580.000000    470.200000    510.900000    501.600000\n",
       "75%      565.100000       680.000000    533.300000    567.100000    598.200000\n",
       "max      801.700000      1000.000000    797.300000    809.400000    985.000000"
      ]
     },
     "execution_count": 116,
     "metadata": {},
     "output_type": "execute_result"
    }
   ],
   "source": [
    "#Visualização geral das informaçoes das notas\n",
    "dados[provas].describe()"
   ]
  },
  {
   "cell_type": "code",
   "execution_count": 117,
   "id": "61c943d0",
   "metadata": {},
   "outputs": [
    {
     "data": {
      "text/plain": [
       "<AxesSubplot:>"
      ]
     },
     "execution_count": 117,
     "metadata": {},
     "output_type": "execute_result"
    },
    {
     "data": {
      "image/png": "[encoded data removed]",
      "text/plain": [
       "<Figure size 864x576 with 1 Axes>"
      ]
     },
     "metadata": {
      "needs_background": "light"
     },
     "output_type": "display_data"
    }
   ],
   "source": [
    "#Boxplot das notas das provas\n",
    "dados[provas].boxplot(figsize=(12,8))"
   ]
  },
  {
   "cell_type": "code",
   "execution_count": 118,
   "id": "71d6ab17",
   "metadata": {},
   "outputs": [],
   "source": [
    "#Criando a coluna do total das notas\n",
    "dados['NU_NOTA_TOTAL'] = dados[provas].sum(axis=1)"
   ]
  },
  {
   "cell_type": "code",
   "execution_count": 119,
   "id": "8b8eadd4",
   "metadata": {},
   "outputs": [],
   "source": [
    "#Eliminando dados com a nota 0\n",
    "dados_sem_nota_zero = dados.query('NU_NOTA_TOTAL != 0')"
   ]
  },
  {
   "cell_type": "code",
   "execution_count": 120,
   "id": "b6d3bd4f",
   "metadata": {},
   "outputs": [],
   "source": [
    "#Ordenando os valores das rendas \"Q006\"\n",
    "renda_ordenada = dados['Q006'].unique()\n",
    "renda_ordenada.sort()"
   ]
  },
  {
   "cell_type": "code",
   "execution_count": 121,
   "id": "7a59cfd1",
   "metadata": {},
   "outputs": [
    {
     "data": {
      "text/plain": [
       "Text(0, 0.5, 'NOTA_TOTAL')"
      ]
     },
     "execution_count": 121,
     "metadata": {},
     "output_type": "execute_result"
    },
    {
     "data": {
      "image/png": "[encoded data removed]",
      "text/plain": [
       "<Figure size 864x576 with 1 Axes>"
      ]
     },
     "metadata": {
      "needs_background": "light"
     },
     "output_type": "display_data"
    }
   ],
   "source": [
    "#Boxplot da NotaTotal através da faixa de renda\n",
    "plt.figure(figsize=(12,8))\n",
    "sns.boxplot(x='Q006', y='NU_NOTA_TOTAL', data=dados_sem_nota_zero, order = renda_ordenada, palette ='crest')\n",
    "plt.title('BOXPLOT NOTA TOTAL X RENDA')\n",
    "plt.xlabel('RENDA')\n",
    "plt.ylabel('NOTA_TOTAL')\n"
   ]
  },
  {
   "cell_type": "markdown",
   "id": "6eb53cf1",
   "metadata": {},
   "source": [
    "        CONCLUSÕES\n",
    "\n",
    "        A medida que a renda aumenta, a mediana das notas também aumentam."
   ]
  },
  {
   "cell_type": "code",
   "execution_count": 122,
   "id": "04bb2c28",
   "metadata": {},
   "outputs": [
    {
     "data": {
      "text/plain": [
       "Text(0, 0.5, 'NOTA_TOTAL')"
      ]
     },
     "execution_count": 122,
     "metadata": {},
     "output_type": "execute_result"
    },
    {
     "data": {
      "image/png": "[encoded data removed]",
      "text/plain": [
       "<Figure size 864x576 with 1 Axes>"
      ]
     },
     "metadata": {
      "needs_background": "light"
     },
     "output_type": "display_data"
    }
   ],
   "source": [
    "#COMPARANDO AS NOTAS SE É TRENEIROS OU NÃO\n",
    "plt.figure(figsize=(12,8))\n",
    "sns.boxplot(x='Q006', y='NU_NOTA_TOTAL', data=dados_sem_nota_zero, order = renda_ordenada, palette ='inferno', hue='IN_TREINEIRO')\n",
    "plt.title('BOXPLOT NOTA TOTAL X RENDA POR TRENEIROS')\n",
    "plt.xlabel('RENDA')\n",
    "plt.ylabel('NOTA_TOTAL')\n",
    "# 0 = não treneiros\n",
    "# 1 = treneiros"
   ]
  },
  {
   "cell_type": "code",
   "execution_count": 123,
   "id": "5c610123",
   "metadata": {},
   "outputs": [
    {
     "data": {
      "text/plain": [
       "3    44995\n",
       "1    36304\n",
       "2    12081\n",
       "4     2321\n",
       "0     1934\n",
       "5      583\n",
       "Name: TP_COR_RACA, dtype: int64"
      ]
     },
     "execution_count": 123,
     "metadata": {},
     "output_type": "execute_result"
    }
   ],
   "source": [
    "#Verificando quantidade de inscritos pela raça\n",
    "dados_sem_nota_zero['TP_COR_RACA'].value_counts()"
   ]
  },
  {
   "cell_type": "code",
   "execution_count": 124,
   "id": "1f49d933",
   "metadata": {},
   "outputs": [
    {
     "name": "stderr",
     "output_type": "stream",
     "text": [
      "C:\\Users\\PICHAU\\anaconda3\\lib\\site-packages\\pandas\\core\\frame.py:4524: SettingWithCopyWarning: \n",
      "A value is trying to be set on a copy of a slice from a DataFrame\n",
      "\n",
      "See the caveats in the documentation: https://pandas.pydata.org/pandas-docs/stable/user_guide/indexing.html#returning-a-view-versus-a-copy\n",
      "  return super().replace(\n"
     ]
    }
   ],
   "source": [
    "#Trocando os valores de acordo com o dicionario de dados\n",
    "raca = dados_sem_nota_zero[['TP_COR_RACA', 'NU_NOTA_TOTAL']]\n",
    "raca.replace(0, 'Nao_declarado', inplace = True)\n",
    "raca.replace(1, 'Branca', inplace = True)\n",
    "raca.replace(2, 'Preta', inplace = True)\n",
    "raca.replace(3, 'Parda', inplace = True)\n",
    "raca.replace(4, 'Amarela', inplace = True)\n",
    "raca.replace(5, 'Indígena', inplace = True)"
   ]
  },
  {
   "cell_type": "code",
   "execution_count": 125,
   "id": "80dd2e5e",
   "metadata": {},
   "outputs": [
    {
     "data": {
      "text/plain": [
       "Text(0.5, 1.0, 'NOTA TOTAL X RAÇA')"
      ]
     },
     "execution_count": 125,
     "metadata": {},
     "output_type": "execute_result"
    },
    {
     "data": {
      "image/png": "[encoded data removed]",
      "text/plain": [
       "<Figure size 864x576 with 1 Axes>"
      ]
     },
     "metadata": {
      "needs_background": "light"
     },
     "output_type": "display_data"
    }
   ],
   "source": [
    "#NOTAS DE CANDIDATOS DE ACORDO COM A DECLARAÇÃO DA RAÇA\n",
    "plt.figure(figsize=(12,8))\n",
    "sns.boxplot(x='TP_COR_RACA', y='NU_NOTA_TOTAL', data=raca, palette='crest')\n",
    "plt.title('NOTA TOTAL X RAÇA')"
   ]
  },
  {
   "cell_type": "code",
   "execution_count": 126,
   "id": "28e879f0",
   "metadata": {},
   "outputs": [
    {
     "data": {
      "text/plain": [
       "<seaborn.axisgrid.FacetGrid at 0x26880cd9640>"
      ]
     },
     "execution_count": 126,
     "metadata": {},
     "output_type": "execute_result"
    },
    {
     "data": {
      "image/png": "[encoded data removed]",
      "text/plain": [
       "<Figure size 360x360 with 1 Axes>"
      ]
     },
     "metadata": {
      "needs_background": "light"
     },
     "output_type": "display_data"
    }
   ],
   "source": [
    "#VERIFICANDO AS DISTRIBUIÇÕES DAS NOTAS\n",
    "sns.displot(dados['NU_NOTA_TOTAL'])"
   ]
  },
  {
   "cell_type": "code",
   "execution_count": 127,
   "id": "0544dd52",
   "metadata": {},
   "outputs": [
    {
     "data": {
      "text/plain": [
       "<seaborn.axisgrid.FacetGrid at 0x26880c302e0>"
      ]
     },
     "execution_count": 127,
     "metadata": {},
     "output_type": "execute_result"
    },
    {
     "data": {
      "image/png": "[encoded data removed]",
      "text/plain": [
       "<Figure size 360x360 with 1 Axes>"
      ]
     },
     "metadata": {
      "needs_background": "light"
     },
     "output_type": "display_data"
    }
   ],
   "source": [
    "#VERIFICANDO AS DISTRIBUIÇÕES DAS NOTAS SEM AS NOTAS 0\n",
    "sns.displot(dados_sem_nota_zero['NU_NOTA_TOTAL'])"
   ]
  },
  {
   "cell_type": "code",
   "execution_count": 128,
   "id": "7c73889f",
   "metadata": {},
   "outputs": [],
   "source": [
    "provas.append('NU_NOTA_TOTAL')"
   ]
  },
  {
   "cell_type": "code",
   "execution_count": 129,
   "id": "bda33daa",
   "metadata": {},
   "outputs": [
    {
     "data": {
      "text/html": [
       "<div>\n",
       "<style scoped>\n",
       "    .dataframe tbody tr th:only-of-type {\n",
       "        vertical-align: middle;\n",
       "    }\n",
       "\n",
       "    .dataframe tbody tr th {\n",
       "        vertical-align: top;\n",
       "    }\n",
       "\n",
       "    .dataframe thead th {\n",
       "        text-align: right;\n",
       "    }\n",
       "</style>\n",
       "<table border=\"1\" class=\"dataframe\">\n",
       "  <thead>\n",
       "    <tr style=\"text-align: right;\">\n",
       "      <th></th>\n",
       "      <th>NU_NOTA_LC</th>\n",
       "      <th>NU_NOTA_REDACAO</th>\n",
       "      <th>NU_NOTA_CN</th>\n",
       "      <th>NU_NOTA_CH</th>\n",
       "      <th>NU_NOTA_MT</th>\n",
       "      <th>NU_NOTA_TOTAL</th>\n",
       "    </tr>\n",
       "  </thead>\n",
       "  <tbody>\n",
       "    <tr>\n",
       "      <th>NU_NOTA_LC</th>\n",
       "      <td>1.000000</td>\n",
       "      <td>0.535797</td>\n",
       "      <td>0.641624</td>\n",
       "      <td>0.744170</td>\n",
       "      <td>0.587710</td>\n",
       "      <td>0.711686</td>\n",
       "    </tr>\n",
       "    <tr>\n",
       "      <th>NU_NOTA_REDACAO</th>\n",
       "      <td>0.535797</td>\n",
       "      <td>1.000000</td>\n",
       "      <td>0.504740</td>\n",
       "      <td>0.528338</td>\n",
       "      <td>0.493046</td>\n",
       "      <td>0.783647</td>\n",
       "    </tr>\n",
       "    <tr>\n",
       "      <th>NU_NOTA_CN</th>\n",
       "      <td>0.641624</td>\n",
       "      <td>0.504740</td>\n",
       "      <td>1.000000</td>\n",
       "      <td>0.668979</td>\n",
       "      <td>0.649527</td>\n",
       "      <td>0.785600</td>\n",
       "    </tr>\n",
       "    <tr>\n",
       "      <th>NU_NOTA_CH</th>\n",
       "      <td>0.744170</td>\n",
       "      <td>0.528338</td>\n",
       "      <td>0.668979</td>\n",
       "      <td>1.000000</td>\n",
       "      <td>0.610332</td>\n",
       "      <td>0.735534</td>\n",
       "    </tr>\n",
       "    <tr>\n",
       "      <th>NU_NOTA_MT</th>\n",
       "      <td>0.587710</td>\n",
       "      <td>0.493046</td>\n",
       "      <td>0.649527</td>\n",
       "      <td>0.610332</td>\n",
       "      <td>1.000000</td>\n",
       "      <td>0.790051</td>\n",
       "    </tr>\n",
       "    <tr>\n",
       "      <th>NU_NOTA_TOTAL</th>\n",
       "      <td>0.711686</td>\n",
       "      <td>0.783647</td>\n",
       "      <td>0.785600</td>\n",
       "      <td>0.735534</td>\n",
       "      <td>0.790051</td>\n",
       "      <td>1.000000</td>\n",
       "    </tr>\n",
       "  </tbody>\n",
       "</table>\n",
       "</div>"
      ],
      "text/plain": [
       "                 NU_NOTA_LC  NU_NOTA_REDACAO  NU_NOTA_CN  NU_NOTA_CH  \\\n",
       "NU_NOTA_LC         1.000000         0.535797    0.641624    0.744170   \n",
       "NU_NOTA_REDACAO    0.535797         1.000000    0.504740    0.528338   \n",
       "NU_NOTA_CN         0.641624         0.504740    1.000000    0.668979   \n",
       "NU_NOTA_CH         0.744170         0.528338    0.668979    1.000000   \n",
       "NU_NOTA_MT         0.587710         0.493046    0.649527    0.610332   \n",
       "NU_NOTA_TOTAL      0.711686         0.783647    0.785600    0.735534   \n",
       "\n",
       "                 NU_NOTA_MT  NU_NOTA_TOTAL  \n",
       "NU_NOTA_LC         0.587710       0.711686  \n",
       "NU_NOTA_REDACAO    0.493046       0.783647  \n",
       "NU_NOTA_CN         0.649527       0.785600  \n",
       "NU_NOTA_CH         0.610332       0.735534  \n",
       "NU_NOTA_MT         1.000000       0.790051  \n",
       "NU_NOTA_TOTAL      0.790051       1.000000  "
      ]
     },
     "execution_count": 129,
     "metadata": {},
     "output_type": "execute_result"
    }
   ],
   "source": [
    "correlação = dados_sem_nota_zero[provas].corr()\n",
    "correlação"
   ]
  },
  {
   "cell_type": "code",
   "execution_count": 130,
   "id": "04fc787e",
   "metadata": {},
   "outputs": [
    {
     "data": {
      "text/plain": [
       "Text(0.5, 1.0, 'CORRELAÇÃO VARIÁVEIS NUMÉRICAS')"
      ]
     },
     "execution_count": 130,
     "metadata": {},
     "output_type": "execute_result"
    },
    {
     "data": {
      "image/png": "[encoded data removed]",
      "text/plain": [
       "<Figure size 576x576 with 2 Axes>"
      ]
     },
     "metadata": {
      "needs_background": "light"
     },
     "output_type": "display_data"
    }
   ],
   "source": [
    "plt.figure(figsize=(8,8))\n",
    "sns.heatmap(correlação, cmap='Blues', annot=True, square=True)\n",
    "plt.title('CORRELAÇÃO VARIÁVEIS NUMÉRICAS')"
   ]
  },
  {
   "cell_type": "markdown",
   "id": "5262d75e",
   "metadata": {},
   "source": [
    "#### CONCLUSÃO\n",
    "##### ANÁLISE EXPLORATÓRIA DE DADOS\n",
    "\n",
    "Por meio da análise exploratória de dados, foi possível concluir todas as hipóteses.\n",
    "\n",
    "\n",
    "1. Maior quantidade de candidatos do sexo feminino.\n",
    "\n",
    "2. Candidatos de 18 anos são a maioria.\n",
    "\n",
    "3. Há maior quantidade de pardos realizando as provas\n",
    "\n",
    "4. A medida que a renda aumenta, as notas também aumentam.\n"
   ]
  },
  {
   "cell_type": "code",
   "execution_count": null,
   "id": "c0b02270",
   "metadata": {},
   "outputs": [],
   "source": []
  }
 ],
 "metadata": {
  "kernelspec": {
   "display_name": "Python 3",
   "language": "python",
   "name": "python3"
  },
  "language_info": {
   "codemirror_mode": {
    "name": "ipython",
    "version": 3
   },
   "file_extension": ".py",
   "mimetype": "text/x-python",
   "name": "python",
   "nbconvert_exporter": "python",
   "pygments_lexer": "ipython3",
   "version": "3.8.8"
  }
 },
 "nbformat": 4,
 "nbformat_minor": 5
}
